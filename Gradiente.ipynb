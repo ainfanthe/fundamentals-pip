{
  "nbformat": 4,
  "nbformat_minor": 0,
  "metadata": {
    "colab": {
      "provenance": []
    },
    "kernelspec": {
      "name": "python3",
      "display_name": "Python 3"
    },
    "language_info": {
      "name": "python"
    }
  },
  "cells": [
    {
      "cell_type": "markdown",
      "source": [
        "## Descenso del gradiente\n",
        "\n",
        "Notebook para aplicar el descenso del gradiente a: $$ y = 0.1x^4 -4x^2 - x $$"
      ],
      "metadata": {
        "id": "8xKz7C5ymeQ9"
      }
    },
    {
      "cell_type": "code",
      "execution_count": null,
      "metadata": {
        "id": "OSmtlJ2BmZQp"
      },
      "outputs": [],
      "source": [
        "# Importamos librerías\n",
        "import numpy as np\n",
        "from matplotlib import pyplot as plt\n",
        "from numpy import linspace\n",
        "import random"
      ]
    },
    {
      "cell_type": "code",
      "source": [],
      "metadata": {
        "id": "yrnnBkRt5rC1"
      },
      "execution_count": null,
      "outputs": []
    },
    {
      "cell_type": "code",
      "source": [
        "# Gráficamos la función\n",
        "X = linspace(-7,7,100)\n",
        "Y = 0.1*X**4 -4*X**2 - X\n",
        "np.random.seed(5)\n",
        "x_i = np.random.normal(0,1)\n",
        "print(x_i)\n",
        "plt.plot(X,Y,'b-',x_i, 0.1*x_i**4 -4*x_i**2 - x_i, 'ro')"
      ],
      "metadata": {
        "colab": {
          "base_uri": "https://localhost:8080/",
          "height": 482
        },
        "id": "atB16lbaoPZc",
        "outputId": "c14904bf-ef41-4573-da81-0c2d66d4010d"
      },
      "execution_count": null,
      "outputs": [
        {
          "output_type": "stream",
          "name": "stdout",
          "text": [
            "0.44122748688504143\n"
          ]
        },
        {
          "output_type": "execute_result",
          "data": {
            "text/plain": [
              "[<matplotlib.lines.Line2D at 0x7d3af1156b30>,\n",
              " <matplotlib.lines.Line2D at 0x7d3af1156c20>]"
            ]
          },
          "metadata": {},
          "execution_count": 2
        },
        {
          "output_type": "display_data",
          "data": {
            "text/plain": [
              "<Figure size 640x480 with 1 Axes>"
            ],
            "image/png": "[encoded data removed]"
          },
          "metadata": {}
        }
      ]
    },
    {
      "cell_type": "code",
      "source": [
        "# Descenso del gradiente, lo primero que realizamos es encontrar un número aleatorio\n",
        "np.random.seed(5)\n",
        "x_i = np.random.normal(0,1)\n",
        "alpha = 0.1 # Se define el tamaño del paso o tasa de aprendizaje para el método, hay muchas teorías sobre como establecer el valor, pero usualmente es 0.1\n",
        "grad = 10\n",
        "print(\"x_initial = %.4f \" % x_i )\n",
        "grad_vector = [] # Se crean listas vacías para almacenar los valores\n",
        "iter_vector = []\n",
        "#for i in range(n_ite):\n",
        "i=1\n",
        "while np.abs(grad) > 0.00000000001: # El loop continuará hasta que el valor absoluto de grad sea mayor que 0.00000000001\n",
        "  print(\"\\n Iteration number = \",i)\n",
        "  grad = 0.4*x_i**3 -8*x_i - 1 # En cada iteración del loop, se calcula el valor de grad utilizando la derivada\n",
        "  grad_vector.append(grad)\n",
        "  iter_vector.append(i)\n",
        "  x_i = x_i - alpha*grad # Se actualiza el valor de x_i utilizando el método de descenso de gradiente presentado\n",
        "  print(\"(x_i = %.2f \" % x_i, \" grad= %.6f \" % grad) # Imprime el valor actual de x_i y grad\n",
        "  i +=1 # E incrementamos el contador\n",
        "plt.plot(X,Y,'b-',x_i,0.1*x_i**4 -4*x_i**2 - x_i, 'ro') # Trazamos el gráfico al finalizar el loop"
      ],
      "metadata": {
        "id": "Erb57uShpXzq",
        "colab": {
          "base_uri": "https://localhost:8080/",
          "height": 1000
        },
        "outputId": "206e753b-6aa4-4b27-a02c-65875131aef9"
      },
      "execution_count": null,
      "outputs": [
        {
          "output_type": "stream",
          "name": "stdout",
          "text": [
            "x_initial = 0.4412 \n",
            "\n",
            " Iteration number =  1\n",
            "(x_i = 0.89   grad= -4.495460 \n",
            "\n",
            " Iteration number =  2\n",
            "(x_i = 1.68   grad= -7.843465 \n",
            "\n",
            " Iteration number =  3\n",
            "(x_i = 2.93   grad= -12.520787 \n",
            "\n",
            " Iteration number =  4\n",
            "(x_i = 4.37   grad= -14.384918 \n",
            "\n",
            " Iteration number =  5\n",
            "(x_i = 4.63   grad= -2.642803 \n",
            "\n",
            " Iteration number =  6\n",
            "(x_i = 4.46   grad= 1.660622 \n",
            "\n",
            " Iteration number =  7\n",
            "(x_i = 4.58   grad= -1.131274 \n",
            "\n",
            " Iteration number =  8\n",
            "(x_i = 4.50   grad= 0.737917 \n",
            "\n",
            " Iteration number =  9\n",
            "(x_i = 4.55   grad= -0.497060 \n",
            "\n",
            " Iteration number =  10\n",
            "(x_i = 4.52   grad= 0.328291 \n",
            "\n",
            " Iteration number =  11\n",
            "(x_i = 4.54   grad= -0.219833 \n",
            "\n",
            " Iteration number =  12\n",
            "(x_i = 4.53   grad= 0.145908 \n",
            "\n",
            " Iteration number =  13\n",
            "(x_i = 4.54   grad= -0.097429 \n",
            "\n",
            " Iteration number =  14\n",
            "(x_i = 4.53   grad= 0.064800 \n",
            "\n",
            " Iteration number =  15\n",
            "(x_i = 4.54   grad= -0.043214 \n",
            "\n",
            " Iteration number =  16\n",
            "(x_i = 4.53   grad= 0.028768 \n",
            "\n",
            " Iteration number =  17\n",
            "(x_i = 4.53   grad= -0.019173 \n",
            "\n",
            " Iteration number =  18\n",
            "(x_i = 4.53   grad= 0.012769 \n",
            "\n",
            " Iteration number =  19\n",
            "(x_i = 4.53   grad= -0.008508 \n",
            "\n",
            " Iteration number =  20\n",
            "(x_i = 4.53   grad= 0.005667 \n",
            "\n",
            " Iteration number =  21\n",
            "(x_i = 4.53   grad= -0.003776 \n",
            "\n",
            " Iteration number =  22\n",
            "(x_i = 4.53   grad= 0.002515 \n",
            "\n",
            " Iteration number =  23\n",
            "(x_i = 4.53   grad= -0.001676 \n",
            "\n",
            " Iteration number =  24\n",
            "(x_i = 4.53   grad= 0.001116 \n",
            "\n",
            " Iteration number =  25\n",
            "(x_i = 4.53   grad= -0.000744 \n",
            "\n",
            " Iteration number =  26\n",
            "(x_i = 4.53   grad= 0.000495 \n",
            "\n",
            " Iteration number =  27\n",
            "(x_i = 4.53   grad= -0.000330 \n",
            "\n",
            " Iteration number =  28\n",
            "(x_i = 4.53   grad= 0.000220 \n",
            "\n",
            " Iteration number =  29\n",
            "(x_i = 4.53   grad= -0.000146 \n",
            "\n",
            " Iteration number =  30\n",
            "(x_i = 4.53   grad= 0.000098 \n",
            "\n",
            " Iteration number =  31\n",
            "(x_i = 4.53   grad= -0.000065 \n",
            "\n",
            " Iteration number =  32\n",
            "(x_i = 4.53   grad= 0.000043 \n",
            "\n",
            " Iteration number =  33\n",
            "(x_i = 4.53   grad= -0.000029 \n",
            "\n",
            " Iteration number =  34\n",
            "(x_i = 4.53   grad= 0.000019 \n",
            "\n",
            " Iteration number =  35\n",
            "(x_i = 4.53   grad= -0.000013 \n",
            "\n",
            " Iteration number =  36\n",
            "(x_i = 4.53   grad= 0.000009 \n",
            "\n",
            " Iteration number =  37\n",
            "(x_i = 4.53   grad= -0.000006 \n",
            "\n",
            " Iteration number =  38\n",
            "(x_i = 4.53   grad= 0.000004 \n",
            "\n",
            " Iteration number =  39\n",
            "(x_i = 4.53   grad= -0.000003 \n",
            "\n",
            " Iteration number =  40\n",
            "(x_i = 4.53   grad= 0.000002 \n",
            "\n",
            " Iteration number =  41\n",
            "(x_i = 4.53   grad= -0.000001 \n",
            "\n",
            " Iteration number =  42\n",
            "(x_i = 4.53   grad= 0.000001 \n",
            "\n",
            " Iteration number =  43\n",
            "(x_i = 4.53   grad= -0.000000 \n",
            "\n",
            " Iteration number =  44\n",
            "(x_i = 4.53   grad= 0.000000 \n",
            "\n",
            " Iteration number =  45\n",
            "(x_i = 4.53   grad= -0.000000 \n",
            "\n",
            " Iteration number =  46\n",
            "(x_i = 4.53   grad= 0.000000 \n",
            "\n",
            " Iteration number =  47\n",
            "(x_i = 4.53   grad= -0.000000 \n",
            "\n",
            " Iteration number =  48\n",
            "(x_i = 4.53   grad= 0.000000 \n",
            "\n",
            " Iteration number =  49\n",
            "(x_i = 4.53   grad= -0.000000 \n",
            "\n",
            " Iteration number =  50\n",
            "(x_i = 4.53   grad= 0.000000 \n",
            "\n",
            " Iteration number =  51\n",
            "(x_i = 4.53   grad= -0.000000 \n",
            "\n",
            " Iteration number =  52\n",
            "(x_i = 4.53   grad= 0.000000 \n",
            "\n",
            " Iteration number =  53\n",
            "(x_i = 4.53   grad= -0.000000 \n",
            "\n",
            " Iteration number =  54\n",
            "(x_i = 4.53   grad= 0.000000 \n",
            "\n",
            " Iteration number =  55\n",
            "(x_i = 4.53   grad= -0.000000 \n",
            "\n",
            " Iteration number =  56\n",
            "(x_i = 4.53   grad= 0.000000 \n",
            "\n",
            " Iteration number =  57\n",
            "(x_i = 4.53   grad= -0.000000 \n",
            "\n",
            " Iteration number =  58\n",
            "(x_i = 4.53   grad= 0.000000 \n",
            "\n",
            " Iteration number =  59\n",
            "(x_i = 4.53   grad= -0.000000 \n",
            "\n",
            " Iteration number =  60\n",
            "(x_i = 4.53   grad= 0.000000 \n",
            "\n",
            " Iteration number =  61\n",
            "(x_i = 4.53   grad= -0.000000 \n",
            "\n",
            " Iteration number =  62\n",
            "(x_i = 4.53   grad= 0.000000 \n",
            "\n",
            " Iteration number =  63\n",
            "(x_i = 4.53   grad= -0.000000 \n",
            "\n",
            " Iteration number =  64\n",
            "(x_i = 4.53   grad= 0.000000 \n",
            "\n",
            " Iteration number =  65\n",
            "(x_i = 4.53   grad= -0.000000 \n",
            "\n",
            " Iteration number =  66\n",
            "(x_i = 4.53   grad= 0.000000 \n",
            "\n",
            " Iteration number =  67\n",
            "(x_i = 4.53   grad= -0.000000 \n",
            "\n",
            " Iteration number =  68\n",
            "(x_i = 4.53   grad= 0.000000 \n",
            "\n",
            " Iteration number =  69\n",
            "(x_i = 4.53   grad= -0.000000 \n",
            "\n",
            " Iteration number =  70\n",
            "(x_i = 4.53   grad= 0.000000 \n"
          ]
        },
        {
          "output_type": "execute_result",
          "data": {
            "text/plain": [
              "[<matplotlib.lines.Line2D at 0x7d3ae1f3c2e0>,\n",
              " <matplotlib.lines.Line2D at 0x7d3ae1f3fac0>]"
            ]
          },
          "metadata": {},
          "execution_count": 3
        },
        {
          "output_type": "display_data",
          "data": {
            "text/plain": [
              "<Figure size 640x480 with 1 Axes>"
            ],
            "image/png": "[encoded data removed]"
          },
          "metadata": {}
        }
      ]
    }
  ]
}
